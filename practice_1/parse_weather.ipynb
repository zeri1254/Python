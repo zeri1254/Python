{
 "cells": [
  {
   "cell_type": "markdown",
   "id": "2edb0db8-4bdd-4a2f-89ad-6965de5ad031",
   "metadata": {
    "tags": []
   },
   "source": [
    "### Предварительная подготовка\n",
    "\n",
    "<u>Если не установлен jupyter-notebook или jupyter lab</u>\n",
    "\n",
    "В терминале создаем виртуальное окружение\n",
    "<code>python -m venv env</code> \n",
    "или\n",
    "<code>python3 -m venv env</code>\n",
    "\n",
    "Активируем виртуальное окружение в соответствии с вашей операционной системой:\n",
    "* Для Linux: <code>source env/bin/activate</code>\n",
    "* Для Windows: <code>env\\Scripts\\activate.bat</code> или <code>env\\Scripts\\activate.bat</code>\n",
    "\n",
    "Устанавливаем jupyter-notebook или jupyterlab: https://jupyter.org/install\n",
    "и запускаем его. "
   ]
  },
  {
   "cell_type": "markdown",
   "id": "2e6053c9-d851-4c41-bc1c-9b7febe249ac",
   "metadata": {},
   "source": [
    "___\n",
    "[Данные по ссылке](https://rp5.ru/%D0%90%D1%80%D1%85%D0%B8%D0%B2_%D0%BF%D0%BE%D0%B3%D0%BE%D0%B4%D1%8B_%D0%B2_%D0%95%D0%BA%D0%B0%D1%82%D0%B5%D1%80%D0%B8%D0%BD%D0%B1%D1%83%D1%80%D0%B3%D0%B5 \"Архив погоды в Екатеринбурге\")\n",
    "\n",
    "Пока берем архив погоды с 1 января 2020 года по 19 октября 2022, формат csv, кодировка UTF-8\n",
    "\n",
    "В телеграм-чате есть этот файл"
   ]
  },
  {
   "cell_type": "markdown",
   "id": "2f4bc8f6-6ec9-46ad-82a8-96d2bb906934",
   "metadata": {},
   "source": [
    "_____\n",
    "# Практика № 1\n",
    "### Пары по обработке данных (19.10.2022 и 21.10.2022)\n",
    "Установка библиотеки для работы с данными"
   ]
  },
  {
   "cell_type": "code",
   "execution_count": 1,
   "id": "df84ac76-83bd-4f01-8da6-51341770181a",
   "metadata": {
    "tags": []
   },
   "outputs": [],
   "source": [
    "# !pip install pandas"
   ]
  },
  {
   "cell_type": "code",
   "execution_count": 2,
   "id": "777ddb05-a43a-4b37-9259-ddbc874d2af6",
   "metadata": {},
   "outputs": [],
   "source": [
    "import pandas as pd"
   ]
  },
  {
   "cell_type": "markdown",
   "id": "aae64e67-a049-4ce1-a221-fbb226d3fd76",
   "metadata": {},
   "source": [
    "Чтение из файла (есть методы для разных форматов)"
   ]
  },
  {
   "cell_type": "code",
   "execution_count": 3,
   "id": "2447f1ca-330b-4d6c-8cd1-a330bb4d14c3",
   "metadata": {},
   "outputs": [],
   "source": [
    "df = pd.read_csv('ekb_weather_2020_2022.csv', skiprows=6, sep=';', index_col=False)"
   ]
  },
  {
   "cell_type": "markdown",
   "id": "4de8fe80-2b79-4e6d-bb9c-8348ece0bea7",
   "metadata": {},
   "source": [
    "Информация о сете"
   ]
  },
  {
   "cell_type": "code",
   "execution_count": 4,
   "id": "6207f4a7-a4cf-4738-97f5-1221ccc3d782",
   "metadata": {},
   "outputs": [
    {
     "name": "stdout",
     "output_type": "stream",
     "text": [
      "<class 'pandas.core.frame.DataFrame'>\n",
      "RangeIndex: 8171 entries, 0 to 8170\n",
      "Data columns (total 29 columns):\n",
      " #   Column                         Non-Null Count  Dtype  \n",
      "---  ------                         --------------  -----  \n",
      " 0   Местное время в Екатеринбурге  8171 non-null   object \n",
      " 1   T                              8169 non-null   float64\n",
      " 2   Po                             8170 non-null   float64\n",
      " 3   P                              8170 non-null   float64\n",
      " 4   Pa                             8155 non-null   float64\n",
      " 5   U                              8169 non-null   float64\n",
      " 6   DD                             8170 non-null   object \n",
      " 7   Ff                             8170 non-null   float64\n",
      " 8   ff10                           467 non-null    float64\n",
      " 9   ff3                            1460 non-null   float64\n",
      " 10  N                              8151 non-null   object \n",
      " 11  WW                             8171 non-null   object \n",
      " 12  W1                             2939 non-null   object \n",
      " 13  W2                             2939 non-null   object \n",
      " 14  Tn                             1207 non-null   float64\n",
      " 15  Tx                             1018 non-null   float64\n",
      " 16  Cl                             7210 non-null   object \n",
      " 17  Nh                             7210 non-null   object \n",
      " 18  H                              7220 non-null   object \n",
      " 19  Cm                             5902 non-null   object \n",
      " 20  Ch                             5055 non-null   object \n",
      " 21  VV                             8153 non-null   object \n",
      " 22  Td                             8171 non-null   float64\n",
      " 23  RRR                            2035 non-null   object \n",
      " 24  tR                             2035 non-null   float64\n",
      " 25  E                              579 non-null    object \n",
      " 26  Tg                             579 non-null    float64\n",
      " 27  E'                             435 non-null    object \n",
      " 28  sss                            435 non-null    object \n",
      "dtypes: float64(13), object(16)\n",
      "memory usage: 1.8+ MB\n"
     ]
    }
   ],
   "source": [
    "df.info()"
   ]
  },
  {
   "cell_type": "markdown",
   "id": "8462e513-b513-4966-b196-8363f514d26c",
   "metadata": {},
   "source": [
    "Только информация о типах данных по колонкам"
   ]
  },
  {
   "cell_type": "code",
   "execution_count": 5,
   "id": "d17e3805-5886-46a7-a7a5-004c2219c6f8",
   "metadata": {},
   "outputs": [
    {
     "data": {
      "text/plain": [
       "Местное время в Екатеринбурге     object\n",
       "T                                float64\n",
       "Po                               float64\n",
       "P                                float64\n",
       "Pa                               float64\n",
       "U                                float64\n",
       "DD                                object\n",
       "Ff                               float64\n",
       "ff10                             float64\n",
       "ff3                              float64\n",
       "N                                 object\n",
       "WW                                object\n",
       "W1                                object\n",
       "W2                                object\n",
       "Tn                               float64\n",
       "Tx                               float64\n",
       "Cl                                object\n",
       "Nh                                object\n",
       "H                                 object\n",
       "Cm                                object\n",
       "Ch                                object\n",
       "VV                                object\n",
       "Td                               float64\n",
       "RRR                               object\n",
       "tR                               float64\n",
       "E                                 object\n",
       "Tg                               float64\n",
       "E'                                object\n",
       "sss                               object\n",
       "dtype: object"
      ]
     },
     "execution_count": 5,
     "metadata": {},
     "output_type": "execute_result"
    }
   ],
   "source": [
    "df.dtypes"
   ]
  },
  {
   "cell_type": "markdown",
   "id": "a084748c-9322-445d-8a1b-772977515b46",
   "metadata": {},
   "source": [
    "Список названий колонок"
   ]
  },
  {
   "cell_type": "code",
   "execution_count": 7,
   "id": "0ec9aaaa-37bb-4c92-92e8-4ddd57aaf834",
   "metadata": {},
   "outputs": [
    {
     "data": {
      "text/plain": [
       "Index(['Местное время в Екатеринбурге', 'T', 'Po', 'P', 'Pa', 'U', 'DD', 'Ff',\n",
       "       'ff10', 'ff3', 'N', 'WW', 'W1', 'W2', 'Tn', 'Tx', 'Cl', 'Nh', 'H', 'Cm',\n",
       "       'Ch', 'VV', 'Td', 'RRR', 'tR', 'E', 'Tg', 'E'', 'sss'],\n",
       "      dtype='object')"
      ]
     },
     "execution_count": 7,
     "metadata": {},
     "output_type": "execute_result"
    }
   ],
   "source": [
    "df.columns"
   ]
  },
  {
   "cell_type": "code",
   "execution_count": 8,
   "id": "8ffdd1fd-b09c-4157-bbcb-901ca4f7342d",
   "metadata": {},
   "outputs": [
    {
     "data": {
      "text/plain": [
       "['Местное время в Екатеринбурге',\n",
       " 'T',\n",
       " 'Po',\n",
       " 'P',\n",
       " 'Pa',\n",
       " 'U',\n",
       " 'DD',\n",
       " 'Ff',\n",
       " 'ff10',\n",
       " 'ff3',\n",
       " 'N',\n",
       " 'WW',\n",
       " 'W1',\n",
       " 'W2',\n",
       " 'Tn',\n",
       " 'Tx',\n",
       " 'Cl',\n",
       " 'Nh',\n",
       " 'H',\n",
       " 'Cm',\n",
       " 'Ch',\n",
       " 'VV',\n",
       " 'Td',\n",
       " 'RRR',\n",
       " 'tR',\n",
       " 'E',\n",
       " 'Tg',\n",
       " \"E'\",\n",
       " 'sss']"
      ]
     },
     "execution_count": 8,
     "metadata": {},
     "output_type": "execute_result"
    }
   ],
   "source": [
    "df.columns.tolist()"
   ]
  },
  {
   "cell_type": "markdown",
   "id": "9f64d293-4a5f-48c9-83a8-9250229c1525",
   "metadata": {},
   "source": [
    "Аналогично, можно посмотреть индексы"
   ]
  },
  {
   "cell_type": "code",
   "execution_count": 9,
   "id": "a106bcc2-52de-4627-88a7-f15b132ef090",
   "metadata": {},
   "outputs": [
    {
     "data": {
      "text/plain": [
       "RangeIndex(start=0, stop=8171, step=1)"
      ]
     },
     "execution_count": 9,
     "metadata": {},
     "output_type": "execute_result"
    }
   ],
   "source": [
    "df.index"
   ]
  },
  {
   "cell_type": "markdown",
   "id": "20f30c0a-6622-4473-9959-97cfcbfcd8bc",
   "metadata": {},
   "source": [
    "Вывести первые n строк"
   ]
  },
  {
   "cell_type": "code",
   "execution_count": 10,
   "id": "cb5382ca-4558-4262-8c1f-3fdfd6d2c560",
   "metadata": {},
   "outputs": [
    {
     "data": {
      "text/html": [
       "<div>\n",
       "<style scoped>\n",
       "    .dataframe tbody tr th:only-of-type {\n",
       "        vertical-align: middle;\n",
       "    }\n",
       "\n",
       "    .dataframe tbody tr th {\n",
       "        vertical-align: top;\n",
       "    }\n",
       "\n",
       "    .dataframe thead th {\n",
       "        text-align: right;\n",
       "    }\n",
       "</style>\n",
       "<table border=\"1\" class=\"dataframe\">\n",
       "  <thead>\n",
       "    <tr style=\"text-align: right;\">\n",
       "      <th></th>\n",
       "      <th>Местное время в Екатеринбурге</th>\n",
       "      <th>T</th>\n",
       "      <th>Po</th>\n",
       "      <th>P</th>\n",
       "      <th>Pa</th>\n",
       "      <th>U</th>\n",
       "      <th>DD</th>\n",
       "      <th>Ff</th>\n",
       "      <th>ff10</th>\n",
       "      <th>ff3</th>\n",
       "      <th>...</th>\n",
       "      <th>Cm</th>\n",
       "      <th>Ch</th>\n",
       "      <th>VV</th>\n",
       "      <th>Td</th>\n",
       "      <th>RRR</th>\n",
       "      <th>tR</th>\n",
       "      <th>E</th>\n",
       "      <th>Tg</th>\n",
       "      <th>E'</th>\n",
       "      <th>sss</th>\n",
       "    </tr>\n",
       "  </thead>\n",
       "  <tbody>\n",
       "    <tr>\n",
       "      <th>0</th>\n",
       "      <td>19.10.2022 14:00</td>\n",
       "      <td>5.6</td>\n",
       "      <td>726.3</td>\n",
       "      <td>751.6</td>\n",
       "      <td>0.1</td>\n",
       "      <td>73.0</td>\n",
       "      <td>Ветер, дующий с запада</td>\n",
       "      <td>3.0</td>\n",
       "      <td>NaN</td>\n",
       "      <td>NaN</td>\n",
       "      <td>...</td>\n",
       "      <td>NaN</td>\n",
       "      <td>NaN</td>\n",
       "      <td>20.0</td>\n",
       "      <td>1.1</td>\n",
       "      <td>NaN</td>\n",
       "      <td>NaN</td>\n",
       "      <td>NaN</td>\n",
       "      <td>NaN</td>\n",
       "      <td>NaN</td>\n",
       "      <td>NaN</td>\n",
       "    </tr>\n",
       "    <tr>\n",
       "      <th>1</th>\n",
       "      <td>19.10.2022 11:00</td>\n",
       "      <td>4.9</td>\n",
       "      <td>726.2</td>\n",
       "      <td>751.6</td>\n",
       "      <td>-0.8</td>\n",
       "      <td>77.0</td>\n",
       "      <td>Ветер, дующий с западо-юго-запада</td>\n",
       "      <td>3.0</td>\n",
       "      <td>NaN</td>\n",
       "      <td>NaN</td>\n",
       "      <td>...</td>\n",
       "      <td>NaN</td>\n",
       "      <td>NaN</td>\n",
       "      <td>20.0</td>\n",
       "      <td>1.2</td>\n",
       "      <td>NaN</td>\n",
       "      <td>NaN</td>\n",
       "      <td>NaN</td>\n",
       "      <td>NaN</td>\n",
       "      <td>NaN</td>\n",
       "      <td>NaN</td>\n",
       "    </tr>\n",
       "    <tr>\n",
       "      <th>2</th>\n",
       "      <td>19.10.2022 08:00</td>\n",
       "      <td>3.9</td>\n",
       "      <td>727.0</td>\n",
       "      <td>752.4</td>\n",
       "      <td>-1.2</td>\n",
       "      <td>83.0</td>\n",
       "      <td>Ветер, дующий с юго-юго-запада</td>\n",
       "      <td>2.0</td>\n",
       "      <td>NaN</td>\n",
       "      <td>NaN</td>\n",
       "      <td>...</td>\n",
       "      <td>NaN</td>\n",
       "      <td>NaN</td>\n",
       "      <td>20.0</td>\n",
       "      <td>1.3</td>\n",
       "      <td>0.5</td>\n",
       "      <td>12.0</td>\n",
       "      <td>Поверхность почвы влажная.</td>\n",
       "      <td>4.0</td>\n",
       "      <td>NaN</td>\n",
       "      <td>NaN</td>\n",
       "    </tr>\n",
       "    <tr>\n",
       "      <th>3</th>\n",
       "      <td>19.10.2022 05:00</td>\n",
       "      <td>4.1</td>\n",
       "      <td>728.2</td>\n",
       "      <td>753.7</td>\n",
       "      <td>-1.9</td>\n",
       "      <td>83.0</td>\n",
       "      <td>Ветер, дующий с юго-запада</td>\n",
       "      <td>2.0</td>\n",
       "      <td>NaN</td>\n",
       "      <td>NaN</td>\n",
       "      <td>...</td>\n",
       "      <td>NaN</td>\n",
       "      <td>NaN</td>\n",
       "      <td>10.0</td>\n",
       "      <td>1.4</td>\n",
       "      <td>NaN</td>\n",
       "      <td>NaN</td>\n",
       "      <td>NaN</td>\n",
       "      <td>NaN</td>\n",
       "      <td>NaN</td>\n",
       "      <td>NaN</td>\n",
       "    </tr>\n",
       "    <tr>\n",
       "      <th>4</th>\n",
       "      <td>19.10.2022 02:00</td>\n",
       "      <td>4.0</td>\n",
       "      <td>730.1</td>\n",
       "      <td>755.7</td>\n",
       "      <td>-1.7</td>\n",
       "      <td>85.0</td>\n",
       "      <td>Ветер, дующий с западо-юго-запада</td>\n",
       "      <td>2.0</td>\n",
       "      <td>NaN</td>\n",
       "      <td>NaN</td>\n",
       "      <td>...</td>\n",
       "      <td>NaN</td>\n",
       "      <td>NaN</td>\n",
       "      <td>10.0</td>\n",
       "      <td>1.7</td>\n",
       "      <td>NaN</td>\n",
       "      <td>NaN</td>\n",
       "      <td>NaN</td>\n",
       "      <td>NaN</td>\n",
       "      <td>NaN</td>\n",
       "      <td>NaN</td>\n",
       "    </tr>\n",
       "  </tbody>\n",
       "</table>\n",
       "<p>5 rows × 29 columns</p>\n",
       "</div>"
      ],
      "text/plain": [
       "  Местное время в Екатеринбурге    T     Po      P   Pa     U  \\\n",
       "0              19.10.2022 14:00  5.6  726.3  751.6  0.1  73.0   \n",
       "1              19.10.2022 11:00  4.9  726.2  751.6 -0.8  77.0   \n",
       "2              19.10.2022 08:00  3.9  727.0  752.4 -1.2  83.0   \n",
       "3              19.10.2022 05:00  4.1  728.2  753.7 -1.9  83.0   \n",
       "4              19.10.2022 02:00  4.0  730.1  755.7 -1.7  85.0   \n",
       "\n",
       "                                  DD   Ff  ff10  ff3  ...   Cm   Ch    VV  \\\n",
       "0             Ветер, дующий с запада  3.0   NaN  NaN  ...  NaN  NaN  20.0   \n",
       "1  Ветер, дующий с западо-юго-запада  3.0   NaN  NaN  ...  NaN  NaN  20.0   \n",
       "2     Ветер, дующий с юго-юго-запада  2.0   NaN  NaN  ...  NaN  NaN  20.0   \n",
       "3         Ветер, дующий с юго-запада  2.0   NaN  NaN  ...  NaN  NaN  10.0   \n",
       "4  Ветер, дующий с западо-юго-запада  2.0   NaN  NaN  ...  NaN  NaN  10.0   \n",
       "\n",
       "    Td  RRR    tR                           E   Tg   E'  sss  \n",
       "0  1.1  NaN   NaN                         NaN  NaN  NaN  NaN  \n",
       "1  1.2  NaN   NaN                         NaN  NaN  NaN  NaN  \n",
       "2  1.3  0.5  12.0  Поверхность почвы влажная.  4.0  NaN  NaN  \n",
       "3  1.4  NaN   NaN                         NaN  NaN  NaN  NaN  \n",
       "4  1.7  NaN   NaN                         NaN  NaN  NaN  NaN  \n",
       "\n",
       "[5 rows x 29 columns]"
      ]
     },
     "execution_count": 10,
     "metadata": {},
     "output_type": "execute_result"
    }
   ],
   "source": [
    "df.head()"
   ]
  },
  {
   "cell_type": "markdown",
   "id": "fc5fdd53-b0e2-4d3b-b3c3-04c307b9136f",
   "metadata": {},
   "source": [
    "Вывести последние n строк"
   ]
  },
  {
   "cell_type": "code",
   "execution_count": 11,
   "id": "6578dfbc-0a8b-487d-a56d-f0877afc4980",
   "metadata": {},
   "outputs": [
    {
     "data": {
      "text/html": [
       "<div>\n",
       "<style scoped>\n",
       "    .dataframe tbody tr th:only-of-type {\n",
       "        vertical-align: middle;\n",
       "    }\n",
       "\n",
       "    .dataframe tbody tr th {\n",
       "        vertical-align: top;\n",
       "    }\n",
       "\n",
       "    .dataframe thead th {\n",
       "        text-align: right;\n",
       "    }\n",
       "</style>\n",
       "<table border=\"1\" class=\"dataframe\">\n",
       "  <thead>\n",
       "    <tr style=\"text-align: right;\">\n",
       "      <th></th>\n",
       "      <th>Местное время в Екатеринбурге</th>\n",
       "      <th>T</th>\n",
       "      <th>Po</th>\n",
       "      <th>P</th>\n",
       "      <th>Pa</th>\n",
       "      <th>U</th>\n",
       "      <th>DD</th>\n",
       "      <th>Ff</th>\n",
       "      <th>ff10</th>\n",
       "      <th>ff3</th>\n",
       "      <th>...</th>\n",
       "      <th>Cm</th>\n",
       "      <th>Ch</th>\n",
       "      <th>VV</th>\n",
       "      <th>Td</th>\n",
       "      <th>RRR</th>\n",
       "      <th>tR</th>\n",
       "      <th>E</th>\n",
       "      <th>Tg</th>\n",
       "      <th>E'</th>\n",
       "      <th>sss</th>\n",
       "    </tr>\n",
       "  </thead>\n",
       "  <tbody>\n",
       "    <tr>\n",
       "      <th>8166</th>\n",
       "      <td>01.01.2020 14:00</td>\n",
       "      <td>-2.4</td>\n",
       "      <td>721.3</td>\n",
       "      <td>747.1</td>\n",
       "      <td>1.5</td>\n",
       "      <td>80.0</td>\n",
       "      <td>Ветер, дующий с западо-юго-запада</td>\n",
       "      <td>4.0</td>\n",
       "      <td>NaN</td>\n",
       "      <td>NaN</td>\n",
       "      <td>...</td>\n",
       "      <td>NaN</td>\n",
       "      <td>NaN</td>\n",
       "      <td>20.0</td>\n",
       "      <td>-5.4</td>\n",
       "      <td>NaN</td>\n",
       "      <td>NaN</td>\n",
       "      <td>NaN</td>\n",
       "      <td>NaN</td>\n",
       "      <td>NaN</td>\n",
       "      <td>NaN</td>\n",
       "    </tr>\n",
       "    <tr>\n",
       "      <th>8167</th>\n",
       "      <td>01.01.2020 11:00</td>\n",
       "      <td>-3.5</td>\n",
       "      <td>719.8</td>\n",
       "      <td>745.8</td>\n",
       "      <td>1.5</td>\n",
       "      <td>84.0</td>\n",
       "      <td>Ветер, дующий с запада</td>\n",
       "      <td>4.0</td>\n",
       "      <td>NaN</td>\n",
       "      <td>NaN</td>\n",
       "      <td>...</td>\n",
       "      <td>NaN</td>\n",
       "      <td>NaN</td>\n",
       "      <td>20.0</td>\n",
       "      <td>-5.9</td>\n",
       "      <td>NaN</td>\n",
       "      <td>NaN</td>\n",
       "      <td>NaN</td>\n",
       "      <td>NaN</td>\n",
       "      <td>NaN</td>\n",
       "      <td>NaN</td>\n",
       "    </tr>\n",
       "    <tr>\n",
       "      <th>8168</th>\n",
       "      <td>01.01.2020 08:00</td>\n",
       "      <td>-4.5</td>\n",
       "      <td>718.3</td>\n",
       "      <td>744.3</td>\n",
       "      <td>1.0</td>\n",
       "      <td>84.0</td>\n",
       "      <td>Ветер, дующий с запада</td>\n",
       "      <td>5.0</td>\n",
       "      <td>NaN</td>\n",
       "      <td>NaN</td>\n",
       "      <td>...</td>\n",
       "      <td>NaN</td>\n",
       "      <td>NaN</td>\n",
       "      <td>10.0</td>\n",
       "      <td>-6.9</td>\n",
       "      <td>0.3</td>\n",
       "      <td>12.0</td>\n",
       "      <td>NaN</td>\n",
       "      <td>NaN</td>\n",
       "      <td>Ровный слой сухого рассыпчатого снега покрывае...</td>\n",
       "      <td>28.0</td>\n",
       "    </tr>\n",
       "    <tr>\n",
       "      <th>8169</th>\n",
       "      <td>01.01.2020 05:00</td>\n",
       "      <td>-6.2</td>\n",
       "      <td>717.3</td>\n",
       "      <td>743.4</td>\n",
       "      <td>0.7</td>\n",
       "      <td>83.0</td>\n",
       "      <td>Ветер, дующий с западо-юго-запада</td>\n",
       "      <td>3.0</td>\n",
       "      <td>NaN</td>\n",
       "      <td>NaN</td>\n",
       "      <td>...</td>\n",
       "      <td>Высококучевых, высокослоистых или слоисто-дожд...</td>\n",
       "      <td>Перистых, перисто-кучевых или перисто-слоистых...</td>\n",
       "      <td>4.0</td>\n",
       "      <td>-8.6</td>\n",
       "      <td>NaN</td>\n",
       "      <td>NaN</td>\n",
       "      <td>NaN</td>\n",
       "      <td>NaN</td>\n",
       "      <td>NaN</td>\n",
       "      <td>NaN</td>\n",
       "    </tr>\n",
       "    <tr>\n",
       "      <th>8170</th>\n",
       "      <td>01.01.2020 02:00</td>\n",
       "      <td>-8.2</td>\n",
       "      <td>716.6</td>\n",
       "      <td>742.9</td>\n",
       "      <td>-0.1</td>\n",
       "      <td>76.0</td>\n",
       "      <td>Ветер, дующий с западо-юго-запада</td>\n",
       "      <td>3.0</td>\n",
       "      <td>NaN</td>\n",
       "      <td>NaN</td>\n",
       "      <td>...</td>\n",
       "      <td>Высококучевых, высокослоистых или слоисто-дожд...</td>\n",
       "      <td>Перистых, перисто-кучевых или перисто-слоистых...</td>\n",
       "      <td>10.0</td>\n",
       "      <td>-11.8</td>\n",
       "      <td>NaN</td>\n",
       "      <td>NaN</td>\n",
       "      <td>NaN</td>\n",
       "      <td>NaN</td>\n",
       "      <td>NaN</td>\n",
       "      <td>NaN</td>\n",
       "    </tr>\n",
       "  </tbody>\n",
       "</table>\n",
       "<p>5 rows × 29 columns</p>\n",
       "</div>"
      ],
      "text/plain": [
       "     Местное время в Екатеринбурге    T     Po      P   Pa     U  \\\n",
       "8166              01.01.2020 14:00 -2.4  721.3  747.1  1.5  80.0   \n",
       "8167              01.01.2020 11:00 -3.5  719.8  745.8  1.5  84.0   \n",
       "8168              01.01.2020 08:00 -4.5  718.3  744.3  1.0  84.0   \n",
       "8169              01.01.2020 05:00 -6.2  717.3  743.4  0.7  83.0   \n",
       "8170              01.01.2020 02:00 -8.2  716.6  742.9 -0.1  76.0   \n",
       "\n",
       "                                     DD   Ff  ff10  ff3  ...  \\\n",
       "8166  Ветер, дующий с западо-юго-запада  4.0   NaN  NaN  ...   \n",
       "8167             Ветер, дующий с запада  4.0   NaN  NaN  ...   \n",
       "8168             Ветер, дующий с запада  5.0   NaN  NaN  ...   \n",
       "8169  Ветер, дующий с западо-юго-запада  3.0   NaN  NaN  ...   \n",
       "8170  Ветер, дующий с западо-юго-запада  3.0   NaN  NaN  ...   \n",
       "\n",
       "                                                     Cm  \\\n",
       "8166                                                NaN   \n",
       "8167                                                NaN   \n",
       "8168                                                NaN   \n",
       "8169  Высококучевых, высокослоистых или слоисто-дожд...   \n",
       "8170  Высококучевых, высокослоистых или слоисто-дожд...   \n",
       "\n",
       "                                                     Ch    VV    Td  RRR  \\\n",
       "8166                                                NaN  20.0  -5.4  NaN   \n",
       "8167                                                NaN  20.0  -5.9  NaN   \n",
       "8168                                                NaN  10.0  -6.9  0.3   \n",
       "8169  Перистых, перисто-кучевых или перисто-слоистых...   4.0  -8.6  NaN   \n",
       "8170  Перистых, перисто-кучевых или перисто-слоистых...  10.0 -11.8  NaN   \n",
       "\n",
       "        tR    E  Tg                                                 E'   sss  \n",
       "8166   NaN  NaN NaN                                                NaN   NaN  \n",
       "8167   NaN  NaN NaN                                                NaN   NaN  \n",
       "8168  12.0  NaN NaN  Ровный слой сухого рассыпчатого снега покрывае...  28.0  \n",
       "8169   NaN  NaN NaN                                                NaN   NaN  \n",
       "8170   NaN  NaN NaN                                                NaN   NaN  \n",
       "\n",
       "[5 rows x 29 columns]"
      ]
     },
     "execution_count": 11,
     "metadata": {},
     "output_type": "execute_result"
    }
   ],
   "source": [
    "df.tail()"
   ]
  },
  {
   "cell_type": "markdown",
   "id": "b1f28efa-7ecb-4816-a0c0-21173ebf02d7",
   "metadata": {},
   "source": [
    "Вывести рандомные n строк"
   ]
  },
  {
   "cell_type": "code",
   "execution_count": 12,
   "id": "17c3df17-adfa-4e72-9e08-39a47f2bd581",
   "metadata": {},
   "outputs": [
    {
     "data": {
      "text/html": [
       "<div>\n",
       "<style scoped>\n",
       "    .dataframe tbody tr th:only-of-type {\n",
       "        vertical-align: middle;\n",
       "    }\n",
       "\n",
       "    .dataframe tbody tr th {\n",
       "        vertical-align: top;\n",
       "    }\n",
       "\n",
       "    .dataframe thead th {\n",
       "        text-align: right;\n",
       "    }\n",
       "</style>\n",
       "<table border=\"1\" class=\"dataframe\">\n",
       "  <thead>\n",
       "    <tr style=\"text-align: right;\">\n",
       "      <th></th>\n",
       "      <th>Местное время в Екатеринбурге</th>\n",
       "      <th>T</th>\n",
       "      <th>Po</th>\n",
       "      <th>P</th>\n",
       "      <th>Pa</th>\n",
       "      <th>U</th>\n",
       "      <th>DD</th>\n",
       "      <th>Ff</th>\n",
       "      <th>ff10</th>\n",
       "      <th>ff3</th>\n",
       "      <th>...</th>\n",
       "      <th>Cm</th>\n",
       "      <th>Ch</th>\n",
       "      <th>VV</th>\n",
       "      <th>Td</th>\n",
       "      <th>RRR</th>\n",
       "      <th>tR</th>\n",
       "      <th>E</th>\n",
       "      <th>Tg</th>\n",
       "      <th>E'</th>\n",
       "      <th>sss</th>\n",
       "    </tr>\n",
       "  </thead>\n",
       "  <tbody>\n",
       "    <tr>\n",
       "      <th>7033</th>\n",
       "      <td>22.05.2020 05:00</td>\n",
       "      <td>8.3</td>\n",
       "      <td>727.6</td>\n",
       "      <td>752.6</td>\n",
       "      <td>-0.3</td>\n",
       "      <td>90.0</td>\n",
       "      <td>Ветер, дующий с юго-запада</td>\n",
       "      <td>4.0</td>\n",
       "      <td>NaN</td>\n",
       "      <td>NaN</td>\n",
       "      <td>...</td>\n",
       "      <td>Высококучевые, просвечивающие или плотные в дв...</td>\n",
       "      <td>NaN</td>\n",
       "      <td>20.0</td>\n",
       "      <td>6.8</td>\n",
       "      <td>NaN</td>\n",
       "      <td>NaN</td>\n",
       "      <td>NaN</td>\n",
       "      <td>NaN</td>\n",
       "      <td>NaN</td>\n",
       "      <td>NaN</td>\n",
       "    </tr>\n",
       "  </tbody>\n",
       "</table>\n",
       "<p>1 rows × 29 columns</p>\n",
       "</div>"
      ],
      "text/plain": [
       "     Местное время в Екатеринбурге    T     Po      P   Pa     U  \\\n",
       "7033              22.05.2020 05:00  8.3  727.6  752.6 -0.3  90.0   \n",
       "\n",
       "                              DD   Ff  ff10  ff3  ...  \\\n",
       "7033  Ветер, дующий с юго-запада  4.0   NaN  NaN  ...   \n",
       "\n",
       "                                                     Cm   Ch    VV   Td  RRR  \\\n",
       "7033  Высококучевые, просвечивающие или плотные в дв...  NaN  20.0  6.8  NaN   \n",
       "\n",
       "      tR    E  Tg   E'  sss  \n",
       "7033 NaN  NaN NaN  NaN  NaN  \n",
       "\n",
       "[1 rows x 29 columns]"
      ]
     },
     "execution_count": 12,
     "metadata": {},
     "output_type": "execute_result"
    }
   ],
   "source": [
    "df.sample()"
   ]
  },
  {
   "cell_type": "markdown",
   "id": "1ecd4e1c-f2c9-4fd2-83f7-930b6e38390f",
   "metadata": {
    "tags": []
   },
   "source": [
    "## Задание 1\n",
    "### Шаг 1\n",
    "Определить тип данных колонки <code>'Местное время в Екатеринбурге'</code>"
   ]
  },
  {
   "cell_type": "code",
   "execution_count": 13,
   "id": "e40ee693-2304-4313-9dcb-167ace92b681",
   "metadata": {},
   "outputs": [
    {
     "data": {
      "text/plain": [
       "8151    03.01.2020 11:00\n",
       "8152    03.01.2020 08:00\n",
       "8153    03.01.2020 05:00\n",
       "8154    03.01.2020 02:00\n",
       "8155    02.01.2020 23:00\n",
       "8156    02.01.2020 20:00\n",
       "8157    02.01.2020 17:00\n",
       "8158    02.01.2020 14:00\n",
       "8159    02.01.2020 11:00\n",
       "8160    02.01.2020 08:00\n",
       "8161    02.01.2020 05:00\n",
       "8162    02.01.2020 02:00\n",
       "8163    01.01.2020 23:00\n",
       "8164    01.01.2020 20:00\n",
       "8165    01.01.2020 17:00\n",
       "8166    01.01.2020 14:00\n",
       "8167    01.01.2020 11:00\n",
       "8168    01.01.2020 08:00\n",
       "8169    01.01.2020 05:00\n",
       "8170    01.01.2020 02:00\n",
       "Name: Местное время в Екатеринбурге, dtype: object"
      ]
     },
     "execution_count": 13,
     "metadata": {},
     "output_type": "execute_result"
    }
   ],
   "source": [
    "df['Местное время в Екатеринбурге'].tail(20)"
   ]
  },
  {
   "cell_type": "markdown",
   "id": "6d8667dd-acd3-4fd3-b21e-04c396494d45",
   "metadata": {
    "tags": []
   },
   "source": [
    "### Шаг 2\n",
    "Преобразовать в формат datetime <code>'Местное время в Екатеринбурге'</code>"
   ]
  },
  {
   "cell_type": "code",
   "execution_count": 14,
   "id": "5510295a-a25c-4b7e-829a-fc90d0a2a9fe",
   "metadata": {},
   "outputs": [],
   "source": [
    "df['Местное время в Екатеринбурге'] = pd.to_datetime(df['Местное время в Екатеринбурге'], dayfirst=True)"
   ]
  },
  {
   "cell_type": "markdown",
   "id": "785cc50e-e00e-449f-bd94-2deb06e5c890",
   "metadata": {
    "tags": []
   },
   "source": [
    "### Шаг 3\n",
    "Установить колонку <code>'Местное время в Екатеринбурге'</code> в качестве индекса датафрейма"
   ]
  },
  {
   "cell_type": "code",
   "execution_count": 15,
   "id": "3fe421af-8e1b-4734-a47c-85edbfceb52a",
   "metadata": {},
   "outputs": [],
   "source": [
    "df = df.set_index('Местное время в Екатеринбурге')"
   ]
  },
  {
   "cell_type": "code",
   "execution_count": 16,
   "id": "dbd82efb-39fd-46f1-877f-74a9d39c9b34",
   "metadata": {},
   "outputs": [],
   "source": [
    "df = df.sort_index()"
   ]
  },
  {
   "cell_type": "markdown",
   "id": "33320ef3-d782-402c-ad06-1f2abf3724d3",
   "metadata": {
    "tags": []
   },
   "source": [
    "### Шаг 4\n",
    "Выбрать колонки для дальнейшей работы (визуализации) и записать в отдельную переменную"
   ]
  },
  {
   "cell_type": "code",
   "execution_count": 17,
   "id": "d58c44e0-509a-4c74-9f90-975411615951",
   "metadata": {},
   "outputs": [
    {
     "data": {
      "text/plain": [
       "Index(['T', 'Po', 'P', 'Pa', 'U', 'DD', 'Ff', 'ff10', 'ff3', 'N', 'WW', 'W1',\n",
       "       'W2', 'Tn', 'Tx', 'Cl', 'Nh', 'H', 'Cm', 'Ch', 'VV', 'Td', 'RRR', 'tR',\n",
       "       'E', 'Tg', 'E'', 'sss'],\n",
       "      dtype='object')"
      ]
     },
     "execution_count": 17,
     "metadata": {},
     "output_type": "execute_result"
    }
   ],
   "source": [
    "df.columns"
   ]
  },
  {
   "cell_type": "code",
   "execution_count": 18,
   "id": "fb3041a2-28c8-4a4b-a0f6-24fdc1ada3ff",
   "metadata": {},
   "outputs": [],
   "source": [
    "df_cut = df[['T', 'Po', 'P', 'Tn', 'Tx']]"
   ]
  },
  {
   "cell_type": "code",
   "execution_count": 19,
   "id": "8dc1e8ca-3ee9-4feb-8519-475e5f10a426",
   "metadata": {},
   "outputs": [],
   "source": [
    "df_cut = df_cut.rename(columns={\n",
    "    'T': 'temperature',\n",
    "    'Po': 'pressure_st',\n",
    "    'P': 'pressure',\n",
    "    'Tn': 'temperature_min',\n",
    "    'Tx': 'temperature_max'\n",
    "})"
   ]
  },
  {
   "cell_type": "code",
   "execution_count": 20,
   "id": "f980825b-16f8-4784-90da-fcccd2286456",
   "metadata": {},
   "outputs": [],
   "source": [
    "df_cut.index.name = 'timestamp'"
   ]
  },
  {
   "cell_type": "code",
   "execution_count": 21,
   "id": "450d39fe-944d-4da4-b302-cc2df17ab0de",
   "metadata": {},
   "outputs": [
    {
     "name": "stdout",
     "output_type": "stream",
     "text": [
      "<class 'pandas.core.frame.DataFrame'>\n",
      "DatetimeIndex: 8171 entries, 2020-01-01 02:00:00 to 2022-10-19 14:00:00\n",
      "Data columns (total 5 columns):\n",
      " #   Column           Non-Null Count  Dtype  \n",
      "---  ------           --------------  -----  \n",
      " 0   temperature      8169 non-null   float64\n",
      " 1   pressure_st      8170 non-null   float64\n",
      " 2   pressure         8170 non-null   float64\n",
      " 3   temperature_min  1207 non-null   float64\n",
      " 4   temperature_max  1018 non-null   float64\n",
      "dtypes: float64(5)\n",
      "memory usage: 383.0 KB\n"
     ]
    }
   ],
   "source": [
    "df_cut.info()"
   ]
  },
  {
   "cell_type": "code",
   "execution_count": 22,
   "id": "53ad0e14-b1fd-4f50-a6d8-6599560e8bfa",
   "metadata": {},
   "outputs": [],
   "source": [
    "import matplotlib as mpl"
   ]
  },
  {
   "cell_type": "code",
   "execution_count": 23,
   "id": "beae7d3c-5d55-406a-b5fe-5f2d9863ee73",
   "metadata": {},
   "outputs": [
    {
     "data": {
      "text/plain": [
       "<AxesSubplot: xlabel='timestamp'>"
      ]
     },
     "execution_count": 23,
     "metadata": {},
     "output_type": "execute_result"
    },
    {
     "data": {
      "image/png": "[encoded data removed]",
      "text/plain": [
       "<Figure size 500x500 with 1 Axes>"
      ]
     },
     "metadata": {},
     "output_type": "display_data"
    }
   ],
   "source": [
    "df_cut.temperature.plot(grid=True, figsize=(5,5))"
   ]
  },
  {
   "cell_type": "code",
   "execution_count": 24,
   "id": "e39f23c7-caa8-4033-a531-74b556ff6629",
   "metadata": {},
   "outputs": [],
   "source": [
    "import plotly.graph_objects as go"
   ]
  },
  {
   "cell_type": "code",
   "execution_count": 26,
   "id": "3284f503-e254-4ac3-9283-49270edabcdc",
   "metadata": {},
   "outputs": [],
   "source": [
    "fig = go.Figure(data=go.Scatter(\n",
    "    x=df_cut.index,\n",
    "    y=df_cut.temperature,\n",
    "    mode='lines',\n",
    "    name='temperature'\n",
    "))\n",
    "\n",
    "fig.add_trace(go.Scatter(x=df_cut.index, y=df_cut.pressure_st, mode='lines', name='pressure_st'))\n",
    "fig.add_trace(go.Scatter(x=df_cut.index, y=df_cut.pressure, mode='lines', name='pressure'))\n",
    "\n",
    "fig.add_trace(go.Scatter(x=df_cut.index, y=df_cut.temperature_min, mode='markers', name='temperature_min'))\n",
    "fig.add_trace(go.Scatter(x=df_cut.index, y=df_cut.temperature_max, mode='markers', name='temperature_max'))\n",
    "\n",
    "fig.write_html('line_plot_temperature_pressure.html')"
   ]
  },
  {
   "cell_type": "code",
   "execution_count": null,
   "id": "b89e3f43-be04-4f06-83b0-34bbdf32580a",
   "metadata": {},
   "outputs": [],
   "source": []
  },
  {
   "cell_type": "markdown",
   "id": "fdefd6ad-f871-4ddf-957e-2790061d7e76",
   "metadata": {
    "tags": []
   },
   "source": [
    "### Шаг 5\n",
    "Сохранить полученный сет в отдельный файл"
   ]
  },
  {
   "cell_type": "code",
   "execution_count": null,
   "id": "22a6e8c2-a7f7-4312-873d-850672384874",
   "metadata": {},
   "outputs": [],
   "source": [
    "!pip install pyarrow"
   ]
  },
  {
   "cell_type": "code",
   "execution_count": 28,
   "id": "a80b7b72-b790-4a3c-8e5c-7e582bb08b5a",
   "metadata": {},
   "outputs": [],
   "source": [
    "df.to_parquet('ekb_weather_2020_2022_processed.parquet', compression='gzip')"
   ]
  },
  {
   "cell_type": "code",
   "execution_count": 30,
   "id": "27aca463-bdd0-417e-8938-37a84d5897e6",
   "metadata": {},
   "outputs": [],
   "source": [
    "df1 = pd.read_parquet('ekb_weather_2020_2022_processed.parquet')"
   ]
  },
  {
   "cell_type": "markdown",
   "id": "276b1ef4-39e2-4309-b35e-2a14d62732ca",
   "metadata": {
    "tags": []
   },
   "source": [
    "## Задание 2\n",
    "### Визуализация данных\n",
    "\n",
    "Выбрать любую библиотеку для построения графиков, например, <code>matplotlib</code>, <code>seaborn</code>, и др.\n",
    "\n",
    "И потренироваться в построении графиков и их настройке (легенды, цвета графиков, сетка и тд).\n",
    "\n",
    "Из графиков хотя бы lineplot, дальше ваше воображение. Как вы подобные данные сможете отобразить. Можно посчитать статистики и их каким-то образом вывести. И т.д.\n",
    "\n",
    "Можно попробовать разные библиотеки, чтобы потом их сравнить."
   ]
  },
  {
   "cell_type": "code",
   "execution_count": null,
   "id": "f209d635-d6cd-4b07-a11a-cb4a15760d02",
   "metadata": {},
   "outputs": [],
   "source": [
    "# code"
   ]
  },
  {
   "cell_type": "markdown",
   "id": "95829018-76b6-4f5c-b665-fa359408722c",
   "metadata": {},
   "source": [
    "___\n",
    "### Дополнительная информация\n",
    "\n",
    "Текущие данные о погоде -- временные ряды.\n",
    "\n",
    "Существует отдельное направление -- анализ временных рядов, можно почитать про эту тему.\n",
    "\n",
    "Посмотреть, чем временные ряды отличаются от обычных табличных данных, какие характеристики имеют. Попробовать их построить."
   ]
  }
 ],
 "metadata": {
  "kernelspec": {
   "display_name": "Python 3.10.5 64-bit",
   "language": "python",
   "name": "python3"
  },
  "language_info": {
   "codemirror_mode": {
    "name": "ipython",
    "version": 3
   },
   "file_extension": ".py",
   "mimetype": "text/x-python",
   "name": "python",
   "nbconvert_exporter": "python",
   "pygments_lexer": "ipython3",
   "version": "3.10.5 (tags/v3.10.5:f377153, Jun  6 2022, 16:14:13) [MSC v.1929 64 bit (AMD64)]"
  },
  "vscode": {
   "interpreter": {
    "hash": "b30392971194586e06490f208e47f3392185beb96b0c44542fd74b8f41280a5e"
   }
  }
 },
 "nbformat": 4,
 "nbformat_minor": 5
}
