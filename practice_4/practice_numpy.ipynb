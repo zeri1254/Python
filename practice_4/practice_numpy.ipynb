{
 "cells": [
  {
   "cell_type": "code",
   "execution_count": 1,
   "id": "d64258d2-9a43-47d4-a73e-015104c92189",
   "metadata": {},
   "outputs": [],
   "source": [
    "import numpy as np\n",
    "import copy"
   ]
  },
  {
   "cell_type": "code",
   "execution_count": 2,
   "id": "e040cf13-956b-4b89-89f5-1b902c062d2e",
   "metadata": {},
   "outputs": [
    {
     "name": "stdout",
     "output_type": "stream",
     "text": [
      "CPU times: total: 2.69 s\n",
      "Wall time: 2.74 s\n"
     ]
    }
   ],
   "source": [
    "%%time\n",
    "arr1 = []\n",
    "n = 10**7\n",
    "for i in range(n):\n",
    "    arr1.append(i*5)"
   ]
  },
  {
   "cell_type": "code",
   "execution_count": 3,
   "id": "ecbf967d-5864-44b5-93b3-277ff1d5b5b7",
   "metadata": {},
   "outputs": [
    {
     "name": "stdout",
     "output_type": "stream",
     "text": [
      "CPU times: total: 1.14 s\n",
      "Wall time: 1.11 s\n"
     ]
    }
   ],
   "source": [
    "%%time\n",
    "arr2 = [i for i in range(0, 5*n, 5)]"
   ]
  },
  {
   "cell_type": "code",
   "execution_count": 4,
   "id": "f8008eda-4249-4ded-8967-ef545abdbba0",
   "metadata": {},
   "outputs": [
    {
     "data": {
      "text/plain": [
       "True"
      ]
     },
     "execution_count": 4,
     "metadata": {},
     "output_type": "execute_result"
    }
   ],
   "source": [
    "arr1 == arr2"
   ]
  },
  {
   "cell_type": "code",
   "execution_count": 5,
   "id": "6a5e5c63-32f5-4a8c-8e75-f3ff6b3fd4e0",
   "metadata": {},
   "outputs": [
    {
     "name": "stdout",
     "output_type": "stream",
     "text": [
      "CPU times: total: 31.2 ms\n",
      "Wall time: 32.9 ms\n"
     ]
    }
   ],
   "source": [
    "%%time\n",
    "arr3 = np.arange(stop=5*n, step=5)"
   ]
  },
  {
   "cell_type": "code",
   "execution_count": 6,
   "id": "82d3e428-e3f1-4ce1-bd8e-ce48aef1b7c1",
   "metadata": {},
   "outputs": [
    {
     "data": {
      "text/plain": [
       "True"
      ]
     },
     "execution_count": 6,
     "metadata": {},
     "output_type": "execute_result"
    }
   ],
   "source": [
    "arr3.tolist() == arr1"
   ]
  },
  {
   "cell_type": "markdown",
   "id": "d7684232-afa1-464b-bfaf-00c98f699e6e",
   "metadata": {},
   "source": [
    "# Библиотека Numpy\n",
    "\n",
    "* `Numpy` - это библиотека Python для вычислительно эффективных операций с многомерными массивами, предназначенная в основном для научных вычислений.\n",
    "\n",
    "* Пакет `Numpy` предоставляет $n$-мерные однородные массивы (все элементы одного типа) в них нельзя вставить или удалить элемент в произвольном месте. В `Numpy` реализовано много операций над массивами в целом."
   ]
  },
  {
   "cell_type": "markdown",
   "id": "31e1ed84-bc95-4338-a510-000fcd019814",
   "metadata": {
    "tags": []
   },
   "source": [
    "___\n",
    "## Одномерный массив"
   ]
  },
  {
   "cell_type": "code",
   "execution_count": 7,
   "id": "cafec4fd-b64c-45f2-a156-2fb693b7a0e9",
   "metadata": {},
   "outputs": [],
   "source": [
    "a = np.array([1, 2, 3, 4, 5])\n",
    "b = np.arange(start=-5, stop=5, step=0.5)\n",
    "c = np.linspace(start=0, stop=100, num=51)\n",
    "d = np.logspace(start=0, stop=10, num=11)"
   ]
  },
  {
   "cell_type": "code",
   "execution_count": 8,
   "id": "e448625a-9780-4fbb-b2ad-6c8b74cb73a1",
   "metadata": {},
   "outputs": [
    {
     "data": {
      "text/plain": [
       "numpy.ndarray"
      ]
     },
     "execution_count": 8,
     "metadata": {},
     "output_type": "execute_result"
    }
   ],
   "source": [
    "type(a)"
   ]
  },
  {
   "cell_type": "code",
   "execution_count": 9,
   "id": "54e9acc7-b790-471d-b6f4-b8ebfd11af57",
   "metadata": {},
   "outputs": [
    {
     "name": "stdout",
     "output_type": "stream",
     "text": [
      "a length: 5\n",
      "b shape: (20,)\n",
      "c dimention: 1\n",
      "d size: 11\n"
     ]
    }
   ],
   "source": [
    "print(f'a length: {len(a)}') # количество элементов\n",
    "print(f'b shape: {b.shape}') # количество элементов по осям\n",
    "print(f'c dimention: {c.ndim}') # размерность\n",
    "print(f'd size: {d.size}') # количество элементов"
   ]
  },
  {
   "cell_type": "markdown",
   "id": "a5358385-1fea-452f-8c48-6c6c0b3c0b03",
   "metadata": {},
   "source": [
    "`ndarray` можно использовать в циклах. Но при этом теряется главное преимущество `Numpy` -- быстродействие.\n",
    "\n",
    "Всегда, когда это возможно, лучше использовать операции над массивами как едиными целыми."
   ]
  },
  {
   "cell_type": "markdown",
   "id": "68cda970-6ff8-42d8-9845-caf1191d6b5d",
   "metadata": {},
   "source": [
    "## Операции над одномерными массивами.\n",
    "\n",
    "*Все арифметические операции производятся поэлементно.*\n"
   ]
  },
  {
   "cell_type": "code",
   "execution_count": 10,
   "id": "af436314-b11d-4eea-ac86-cc833f179f7b",
   "metadata": {},
   "outputs": [
    {
     "name": "stdout",
     "output_type": "stream",
     "text": [
      "[ 1.  2.  3.  4.  5.  6.  7.  8.  9. 10. 11.]\n",
      "[ 5. 10. 15. 20. 25. 30. 35. 40. 45. 50. 55.]\n",
      "[  -6.  -24.  -54.  -96. -150. -216. -294. -384. -486. -600. -726.]\n",
      "[-1.5 -1.5 -1.5 -1.5 -1.5 -1.5 -1.5 -1.5 -1.5 -1.5 -1.5]\n"
     ]
    }
   ],
   "source": [
    "a = np.linspace(3, 33, 11)\n",
    "b = np.linspace(-2, -22, 11)\n",
    "print(a + b)\n",
    "print(a - b)\n",
    "print(a * b)\n",
    "print(a / b)"
   ]
  },
  {
   "cell_type": "markdown",
   "id": "3f397ab4-df41-4b4a-a5f2-d7bbb8d53e4c",
   "metadata": {},
   "source": [
    "Один из операндов может быть скаляром, а не массивом."
   ]
  },
  {
   "cell_type": "code",
   "execution_count": 11,
   "id": "83844a83-35d0-4d18-ad70-965a516c39ae",
   "metadata": {},
   "outputs": [
    {
     "name": "stdout",
     "output_type": "stream",
     "text": [
      "[ 15.  30.  45.  60.  75.  90. 105. 120. 135. 150. 165.]\n",
      "[  8.   6.   4.   2.   0.  -2.  -4.  -6.  -8. -10. -12.]\n"
     ]
    }
   ],
   "source": [
    "print(5 * a)\n",
    "print(10 + b)"
   ]
  },
  {
   "cell_type": "code",
   "execution_count": 12,
   "id": "198af173-3fbe-4c75-b180-8324490c22ac",
   "metadata": {},
   "outputs": [
    {
     "name": "stdout",
     "output_type": "stream",
     "text": [
      "[  1.   4.   9.  16.  25.  36.  49.  64.  81. 100. 121.]\n",
      "[2.000e+00 4.000e+00 8.000e+00 1.600e+01 3.200e+01 6.400e+01 1.280e+02\n",
      " 2.560e+02 5.120e+02 1.024e+03 2.048e+03]\n"
     ]
    }
   ],
   "source": [
    "print((a + b) ** 2)\n",
    "print(2 ** (a + b))"
   ]
  },
  {
   "cell_type": "markdown",
   "id": "6dcecdd0-95c2-4f6c-b7d4-e4622c8ff5e5",
   "metadata": {},
   "source": [
    "В Numpy есть элементарные функции, которые тоже применяются к массивам поэлементно. Они называются универсальными функциями (ufunc)."
   ]
  },
  {
   "cell_type": "code",
   "execution_count": 13,
   "id": "3aaec139-5e51-4809-bb41-e94c6ac70b93",
   "metadata": {},
   "outputs": [
    {
     "data": {
      "text/plain": [
       "numpy.ufunc"
      ]
     },
     "execution_count": 13,
     "metadata": {},
     "output_type": "execute_result"
    }
   ],
   "source": [
    "type(np.cos)"
   ]
  },
  {
   "cell_type": "code",
   "execution_count": 14,
   "id": "226509bd-b5b0-4e7c-b8cd-e8802b2b1bdf",
   "metadata": {},
   "outputs": [
    {
     "data": {
      "text/plain": [
       "array([-0.9899925 ,  0.96017029, -0.91113026,  0.84385396, -0.75968791,\n",
       "        0.66031671, -0.54772926,  0.42417901, -0.29213881,  0.15425145,\n",
       "       -0.01327675])"
      ]
     },
     "execution_count": 14,
     "metadata": {},
     "output_type": "execute_result"
    }
   ],
   "source": [
    "np.cos(a)"
   ]
  },
  {
   "cell_type": "code",
   "execution_count": 15,
   "id": "ad20db29-03af-4cac-b9d9-13d8827c25c5",
   "metadata": {},
   "outputs": [
    {
     "data": {
      "text/plain": [
       "array([1.09861229, 1.79175947, 2.19722458, 2.48490665, 2.7080502 ,\n",
       "       2.89037176, 3.04452244, 3.17805383, 3.29583687, 3.40119738,\n",
       "       3.49650756])"
      ]
     },
     "execution_count": 15,
     "metadata": {},
     "output_type": "execute_result"
    }
   ],
   "source": [
    "np.log(a)"
   ]
  },
  {
   "cell_type": "code",
   "execution_count": 16,
   "id": "5287051a-9a8c-47f7-8379-b681df309be7",
   "metadata": {},
   "outputs": [
    {
     "name": "stderr",
     "output_type": "stream",
     "text": [
      "C:\\Users\\zeri1\\AppData\\Local\\Temp\\ipykernel_13116\\4200754868.py:1: RuntimeWarning: invalid value encountered in log\n",
      "  np.log(b)\n"
     ]
    },
    {
     "data": {
      "text/plain": [
       "array([nan, nan, nan, nan, nan, nan, nan, nan, nan, nan, nan])"
      ]
     },
     "execution_count": 16,
     "metadata": {},
     "output_type": "execute_result"
    }
   ],
   "source": [
    "np.log(b)"
   ]
  },
  {
   "cell_type": "markdown",
   "id": "5f542144-7ed0-4609-b084-c6383fa8316a",
   "metadata": {},
   "source": [
    "Логические операции также производятся поэлементно"
   ]
  },
  {
   "cell_type": "code",
   "execution_count": 17,
   "id": "d2bc9a08-db88-4f50-a332-d1b5a76d9f90",
   "metadata": {},
   "outputs": [
    {
     "name": "stdout",
     "output_type": "stream",
     "text": [
      "[ True  True  True  True  True  True  True  True  True  True  True]\n",
      "[False False False False False False False False False False False]\n",
      "[False False False  True  True  True  True  True  True  True  True]\n"
     ]
    }
   ],
   "source": [
    "print(a > b)\n",
    "print(a == b)\n",
    "print(a >= 10)"
   ]
  },
  {
   "cell_type": "code",
   "execution_count": 18,
   "id": "c0c8ffb1-e3bc-4e70-a7ae-e156969b3a9c",
   "metadata": {},
   "outputs": [
    {
     "data": {
      "text/plain": [
       "(False, True)"
      ]
     },
     "execution_count": 18,
     "metadata": {},
     "output_type": "execute_result"
    }
   ],
   "source": [
    "np.any(a == 0), np.all(b < 0)"
   ]
  },
  {
   "cell_type": "markdown",
   "id": "e0b1efae-e297-4273-8464-a687271482cb",
   "metadata": {},
   "source": [
    "Маски"
   ]
  },
  {
   "cell_type": "code",
   "execution_count": 19,
   "id": "64c72f41-fa0c-4896-a677-77ba29f88d69",
   "metadata": {},
   "outputs": [
    {
     "name": "stdout",
     "output_type": "stream",
     "text": [
      "[ True False False  True False False  True False False  True False False\n",
      "  True False False  True False False  True False]\n",
      "[ 0  3  6  9 12 15 18]\n"
     ]
    }
   ],
   "source": [
    "a = np.arange(20)\n",
    "print(a % 3 == 0)\n",
    "print(a[a % 3 == 0])"
   ]
  },
  {
   "cell_type": "markdown",
   "id": "e45b70ec-18d8-4c67-8812-b7f1780d0d41",
   "metadata": {},
   "source": [
    "**Задание:**\n",
    "\n",
    "1) Создать массив чисел от $-4 \\pi$ до $4 \\pi$, количество точек - 100.\n",
    "2) Посчитать сумму поэлементных квадратов синуса и косинуса для данного массива\n",
    "3) С помощью `np.all` проверить, что все элементы равны единице."
   ]
  },
  {
   "cell_type": "code",
   "execution_count": 20,
   "id": "59e54db2-8d7f-4fcd-bd6d-c26db46bfe04",
   "metadata": {},
   "outputs": [
    {
     "data": {
      "text/plain": [
       "True"
      ]
     },
     "execution_count": 20,
     "metadata": {},
     "output_type": "execute_result"
    }
   ],
   "source": [
    "# your code\n",
    "P = np.linspace(start=-4 * np.pi, stop=4 * np.pi, num=100)\n",
    "result = np.sin(P) ** 2 + np.cos(P) ** 2\n",
    "np.allclose(result, np.ones((1,100), dtype='int')[0])"
   ]
  },
  {
   "cell_type": "markdown",
   "id": "183b1d82-1509-4dd0-ab83-aa2d7c62c519",
   "metadata": {
    "tags": []
   },
   "source": [
    "___\n",
    "## Двумерный массив"
   ]
  },
  {
   "cell_type": "code",
   "execution_count": 21,
   "id": "86dbfeb9-9944-47f9-8135-86ab56b4bc3e",
   "metadata": {},
   "outputs": [],
   "source": [
    "A = np.zeros((4, 3))"
   ]
  },
  {
   "cell_type": "code",
   "execution_count": 22,
   "id": "5d936918-fcee-4e34-b7a7-f8120aafcae9",
   "metadata": {},
   "outputs": [
    {
     "name": "stdout",
     "output_type": "stream",
     "text": [
      "4\n",
      "(4, 3)\n",
      "2\n",
      "12\n"
     ]
    }
   ],
   "source": [
    "print(len(A))\n",
    "print(A.shape)\n",
    "print(A.ndim)\n",
    "print(A.size)"
   ]
  },
  {
   "cell_type": "code",
   "execution_count": 23,
   "id": "e4acf902-457e-40ea-9389-fd0bc64e6fb0",
   "metadata": {},
   "outputs": [
    {
     "data": {
      "text/plain": [
       "array([[1., 1.],\n",
       "       [1., 1.]])"
      ]
     },
     "execution_count": 23,
     "metadata": {},
     "output_type": "execute_result"
    }
   ],
   "source": [
    "B = np.ones((2, 2))\n",
    "B"
   ]
  },
  {
   "cell_type": "code",
   "execution_count": 24,
   "id": "af723896-8177-4542-bf26-8c834c9154a1",
   "metadata": {},
   "outputs": [
    {
     "data": {
      "text/plain": [
       "array([[1., 0., 0., 0., 0.],\n",
       "       [0., 1., 0., 0., 0.],\n",
       "       [0., 0., 1., 0., 0.],\n",
       "       [0., 0., 0., 1., 0.],\n",
       "       [0., 0., 0., 0., 1.]])"
      ]
     },
     "execution_count": 24,
     "metadata": {},
     "output_type": "execute_result"
    }
   ],
   "source": [
    "E = np.eye(5, 5)\n",
    "E"
   ]
  },
  {
   "cell_type": "code",
   "execution_count": 25,
   "id": "371b20c6-aecf-4ffa-b93e-3756f27910fd",
   "metadata": {},
   "outputs": [
    {
     "data": {
      "text/plain": [
       "array([[ 1,  0],\n",
       "       [ 0, -1]])"
      ]
     },
     "execution_count": 25,
     "metadata": {},
     "output_type": "execute_result"
    }
   ],
   "source": [
    "D = np.diag([1, -1])\n",
    "D"
   ]
  },
  {
   "cell_type": "markdown",
   "id": "90bbaf9a-64bd-40d9-80ac-430498add0a9",
   "metadata": {},
   "source": [
    "**Задание:**\n",
    "\n",
    "Создать квадратную матрицу размера 8, \n",
    "\n",
    "на главной диагонали арифметическая прогрессия с шагом 3 (начиная с 3),\n",
    "\n",
    "а на побочной -1, остальные элементы 0."
   ]
  },
  {
   "cell_type": "code",
   "execution_count": 26,
   "id": "49de4fa6-1062-4ec4-a304-35dd17f676d7",
   "metadata": {},
   "outputs": [
    {
     "data": {
      "text/plain": [
       "array([[ 3.,  0.,  0.,  0.,  0.,  0.,  0., -1.],\n",
       "       [ 0.,  6.,  0.,  0.,  0.,  0., -1.,  0.],\n",
       "       [ 0.,  0.,  9.,  0.,  0., -1.,  0.,  0.],\n",
       "       [ 0.,  0.,  0., 12., -1.,  0.,  0.,  0.],\n",
       "       [ 0.,  0.,  0., -1., 15.,  0.,  0.,  0.],\n",
       "       [ 0.,  0., -1.,  0.,  0., 18.,  0.,  0.],\n",
       "       [ 0., -1.,  0.,  0.,  0.,  0., 21.,  0.],\n",
       "       [-1.,  0.,  0.,  0.,  0.,  0.,  0., 24.]])"
      ]
     },
     "execution_count": 26,
     "metadata": {},
     "output_type": "execute_result"
    }
   ],
   "source": [
    "# your code\n",
    "-1 * np.eye(8,8)[::-1] + np.diag(range(3, 27, 3))"
   ]
  },
  {
   "cell_type": "markdown",
   "id": "85c5a7aa-7ed3-4cb1-89fb-242e0699ed0e",
   "metadata": {
    "tags": []
   },
   "source": [
    "___\n",
    "## Вычисления с матрицами"
   ]
  },
  {
   "cell_type": "markdown",
   "id": "b1086aca-d21e-4c47-8393-e3bfc1e43459",
   "metadata": {},
   "source": [
    "Суммирование"
   ]
  },
  {
   "cell_type": "code",
   "execution_count": 27,
   "id": "8649db7d-5202-40af-ae17-71934635fa47",
   "metadata": {},
   "outputs": [
    {
     "data": {
      "text/plain": [
       "array([[ 1,  2,  3],\n",
       "       [ 3,  2,  1],\n",
       "       [ 1,  0, -1]])"
      ]
     },
     "execution_count": 27,
     "metadata": {},
     "output_type": "execute_result"
    }
   ],
   "source": [
    "A = np.array([\n",
    "    [1, 2, 3],\n",
    "    [3, 2, 1],\n",
    "    [1, 0, -1]\n",
    "])\n",
    "A"
   ]
  },
  {
   "cell_type": "code",
   "execution_count": 28,
   "id": "c709f644-9494-4c3b-b9b4-607f4b45134e",
   "metadata": {},
   "outputs": [
    {
     "name": "stdout",
     "output_type": "stream",
     "text": [
      "[5 4 3]\n",
      "[6 6 0]\n"
     ]
    }
   ],
   "source": [
    "print(A.sum(axis=0))\n",
    "print(A.sum(axis=1))"
   ]
  },
  {
   "cell_type": "code",
   "execution_count": 29,
   "id": "6d6bb2df-1271-47c4-bbe9-ec6df8ede580",
   "metadata": {},
   "outputs": [
    {
     "data": {
      "text/plain": [
       "array([[1., 1., 1.],\n",
       "       [1., 1., 1.],\n",
       "       [1., 1., 1.]])"
      ]
     },
     "execution_count": 29,
     "metadata": {},
     "output_type": "execute_result"
    }
   ],
   "source": [
    "B = np.ones((3,3))\n",
    "B"
   ]
  },
  {
   "cell_type": "code",
   "execution_count": 30,
   "id": "9dc524e0-b865-400a-ad2a-5b57c0fcd59d",
   "metadata": {},
   "outputs": [
    {
     "data": {
      "text/plain": [
       "array([[2., 3., 4.],\n",
       "       [4., 3., 2.],\n",
       "       [2., 1., 0.]])"
      ]
     },
     "execution_count": 30,
     "metadata": {},
     "output_type": "execute_result"
    }
   ],
   "source": [
    "A + B"
   ]
  },
  {
   "cell_type": "markdown",
   "id": "934ae5a3-1174-4669-b378-77d26bf146f1",
   "metadata": {},
   "source": [
    "Умножение"
   ]
  },
  {
   "cell_type": "code",
   "execution_count": 31,
   "id": "fed3155e-d056-4596-bbfa-ca12faccab8b",
   "metadata": {},
   "outputs": [
    {
     "name": "stdout",
     "output_type": "stream",
     "text": [
      "[[5. 5. 5. 5. 5.]\n",
      " [5. 5. 5. 5. 5.]\n",
      " [5. 5. 5. 5. 5.]\n",
      " [5. 5. 5. 5. 5.]\n",
      " [5. 5. 5. 5. 5.]] \n",
      "\n",
      "[[2. 1. 1. 1. 1.]\n",
      " [1. 2. 1. 1. 1.]\n",
      " [1. 1. 2. 1. 1.]\n",
      " [1. 1. 1. 2. 1.]\n",
      " [1. 1. 1. 1. 2.]]\n"
     ]
    }
   ],
   "source": [
    "A = 5 * np.ones((5, 5))\n",
    "b = np.eye(5) + 1\n",
    "print(A, '\\n')\n",
    "print(b)"
   ]
  },
  {
   "cell_type": "code",
   "execution_count": 32,
   "id": "3f6d08b2-f064-4ec8-bdd5-562873aa5140",
   "metadata": {},
   "outputs": [
    {
     "name": "stdout",
     "output_type": "stream",
     "text": [
      "[[10.  5.  5.  5.  5.]\n",
      " [ 5. 10.  5.  5.  5.]\n",
      " [ 5.  5. 10.  5.  5.]\n",
      " [ 5.  5.  5. 10.  5.]\n",
      " [ 5.  5.  5.  5. 10.]] \n",
      "\n",
      "[[30. 30. 30. 30. 30.]\n",
      " [30. 30. 30. 30. 30.]\n",
      " [30. 30. 30. 30. 30.]\n",
      " [30. 30. 30. 30. 30.]\n",
      " [30. 30. 30. 30. 30.]] \n",
      "\n",
      "[[30. 30. 30. 30. 30.]\n",
      " [30. 30. 30. 30. 30.]\n",
      " [30. 30. 30. 30. 30.]\n",
      " [30. 30. 30. 30. 30.]\n",
      " [30. 30. 30. 30. 30.]]\n"
     ]
    }
   ],
   "source": [
    "print(A * b, '\\n') # поэлементное умножение\n",
    "print(A @ b, '\\n') # матричное умножение\n",
    "print(A.dot(b)) "
   ]
  },
  {
   "cell_type": "markdown",
   "id": "e1c37f4d-f51e-4735-ab7e-f5aa7d39965f",
   "metadata": {},
   "source": [
    "___\n",
    "# Линейная алгебра"
   ]
  },
  {
   "cell_type": "code",
   "execution_count": 33,
   "id": "bfbf42e0-ba68-4b9d-88ca-52dd3df6dd5a",
   "metadata": {},
   "outputs": [
    {
     "data": {
      "text/plain": [
       "array([[2, 1],\n",
       "       [2, 3]])"
      ]
     },
     "execution_count": 33,
     "metadata": {},
     "output_type": "execute_result"
    }
   ],
   "source": [
    "a = np.array([[2, 1], [2, 3]])\n",
    "a"
   ]
  },
  {
   "cell_type": "markdown",
   "id": "33244a0e-c083-463c-b969-02ed4e91f2fa",
   "metadata": {},
   "source": [
    "Определитель"
   ]
  },
  {
   "cell_type": "code",
   "execution_count": 34,
   "id": "631bb55e-f31d-45eb-ad63-9dde7f596daa",
   "metadata": {},
   "outputs": [
    {
     "data": {
      "text/plain": [
       "4.0"
      ]
     },
     "execution_count": 34,
     "metadata": {},
     "output_type": "execute_result"
    }
   ],
   "source": [
    "np.linalg.det(a)"
   ]
  },
  {
   "cell_type": "markdown",
   "id": "87b036a2-052f-46d0-9c18-006609e37818",
   "metadata": {},
   "source": [
    "Нахождениия обратной матрицы"
   ]
  },
  {
   "cell_type": "code",
   "execution_count": 35,
   "id": "49466a88-32b2-4bc2-a126-28a87429b87e",
   "metadata": {},
   "outputs": [
    {
     "data": {
      "text/plain": [
       "array([[ 0.75, -0.25],\n",
       "       [-0.5 ,  0.5 ]])"
      ]
     },
     "execution_count": 35,
     "metadata": {},
     "output_type": "execute_result"
    }
   ],
   "source": [
    "np.linalg.inv(a)"
   ]
  },
  {
   "cell_type": "code",
   "execution_count": 36,
   "id": "ddfaf8c6-2d24-4e5d-ab2b-0d48b0a4ef18",
   "metadata": {},
   "outputs": [
    {
     "name": "stdout",
     "output_type": "stream",
     "text": [
      "[[2 1]\n",
      " [6 3]]\n",
      "0.0\n"
     ]
    }
   ],
   "source": [
    "c = np.array([[2, 1], [6, 3]])\n",
    "print(c)\n",
    "print(np.linalg.det(c))"
   ]
  },
  {
   "cell_type": "code",
   "execution_count": 37,
   "id": "f3b2ca50-a286-4ccd-86dc-cd323fc3440d",
   "metadata": {},
   "outputs": [],
   "source": [
    "# np.linalg.inv(c)"
   ]
  },
  {
   "cell_type": "markdown",
   "id": "9728a47c-bc37-4b43-b022-ed2271d18e09",
   "metadata": {},
   "source": [
    "### Решение СЛУ\n",
    "\n",
    "$A \\cdot x = n$"
   ]
  },
  {
   "cell_type": "code",
   "execution_count": 38,
   "id": "70473927-04bf-4d19-bb9f-eb8b33bcfb09",
   "metadata": {},
   "outputs": [
    {
     "name": "stdout",
     "output_type": "stream",
     "text": [
      "[-35.  20.]\n",
      "[  5. -10.]\n"
     ]
    }
   ],
   "source": [
    "a = np.array([\n",
    "    [1, 2],\n",
    "    [2, 3]\n",
    "])\n",
    "n = np.array([5, -10])\n",
    "\n",
    "x = np.linalg.solve(a, n)\n",
    "\n",
    "print(x)\n",
    "print(a.dot(x))"
   ]
  },
  {
   "cell_type": "markdown",
   "id": "8d08a996-ab7b-4a31-8936-a3082cbeee38",
   "metadata": {
    "tags": []
   },
   "source": [
    "___\n",
    "# Практика"
   ]
  },
  {
   "cell_type": "code",
   "execution_count": 39,
   "id": "d1014137-e50e-4a61-b5d1-a1b20d5f3a92",
   "metadata": {},
   "outputs": [],
   "source": [
    "from typing import List"
   ]
  },
  {
   "cell_type": "markdown",
   "id": "55059446-9847-4f1d-9e72-6063762be088",
   "metadata": {
    "tags": []
   },
   "source": [
    "## Задание 1\n",
    "\n",
    "**В первой задаче вам предлагается перемножить две квадратные матрицы двумя способами -- без использования пакета `numpy` и с ним.**\n"
   ]
  },
  {
   "cell_type": "markdown",
   "id": "28f4b0ca-bd55-4444-a335-8b2af52eda71",
   "metadata": {},
   "source": [
    "Для генерации матриц используем фукнцию `random` -- она используется для генерации случайных объектов \n",
    "функция `sample` создает случайную выборку. \n",
    "\n",
    "В качестве аргумента ей передается кортеж `(i,j)`, здесь `i` - число строк, `j` - число столбцов."
   ]
  },
  {
   "cell_type": "code",
   "execution_count": 40,
   "id": "52ba0444-26a8-4b6f-9049-90a9489351d9",
   "metadata": {},
   "outputs": [
    {
     "name": "stdout",
     "output_type": "stream",
     "text": [
      "[[0.50229274 0.33546239 0.70902544 ... 0.21605297 0.75341955 0.42332295]\n",
      " [0.60363135 0.48475776 0.91154287 ... 0.81100289 0.67509817 0.39982486]\n",
      " [0.96012407 0.81484264 0.55680899 ... 0.30346583 0.11259069 0.28572525]\n",
      " ...\n",
      " [0.37747164 0.72305555 0.53247429 ... 0.96550482 0.03874845 0.92655865]\n",
      " [0.88219392 0.43814778 0.91692674 ... 0.52865357 0.46488898 0.27777603]\n",
      " [0.47789889 0.97500277 0.80412132 ... 0.44291076 0.19117169 0.9703657 ]]\n",
      "[[0.39628137 0.81220941 0.50902778 ... 0.48968201 0.61643196 0.42998229]\n",
      " [0.2891393  0.60784299 0.02842739 ... 0.3572451  0.98699848 0.3430916 ]\n",
      " [0.75685969 0.9368772  0.5179022  ... 0.35374777 0.43534768 0.64639782]\n",
      " ...\n",
      " [0.81365857 0.44167484 0.80081866 ... 0.55723206 0.04440475 0.10652743]\n",
      " [0.34202282 0.05293823 0.36335665 ... 0.91955869 0.7484609  0.68309241]\n",
      " [0.00300235 0.56833023 0.89671661 ... 0.08248776 0.38132622 0.33367385]]\n"
     ]
    }
   ],
   "source": [
    "a = np.random.sample((100, 100))\n",
    "b = np.random.sample((100, 100))\n",
    "\n",
    "print(a)\n",
    "print(b)"
   ]
  },
  {
   "cell_type": "markdown",
   "id": "4f7610c6-22bc-4ad2-a1cb-9fc991b3f429",
   "metadata": {},
   "source": [
    "Выведите размерность (ранг) каждой матрицы с помощью функции `ndim`.\n",
    "\n",
    "Используйте функцию `shape`, что она вывела?"
   ]
  },
  {
   "cell_type": "code",
   "execution_count": 41,
   "id": "c0cda07c-69ea-4f57-9d7a-707d92d2dded",
   "metadata": {},
   "outputs": [
    {
     "data": {
      "text/plain": [
       "2"
      ]
     },
     "execution_count": 41,
     "metadata": {},
     "output_type": "execute_result"
    }
   ],
   "source": [
    "# your code\n",
    "a.ndim"
   ]
  },
  {
   "cell_type": "code",
   "execution_count": 42,
   "id": "9078f30c",
   "metadata": {},
   "outputs": [
    {
     "data": {
      "text/plain": [
       "2"
      ]
     },
     "execution_count": 42,
     "metadata": {},
     "output_type": "execute_result"
    }
   ],
   "source": [
    "b.ndim"
   ]
  },
  {
   "cell_type": "code",
   "execution_count": 43,
   "id": "2da1fe1e",
   "metadata": {},
   "outputs": [
    {
     "data": {
      "text/plain": [
       "(100, 100)"
      ]
     },
     "execution_count": 43,
     "metadata": {},
     "output_type": "execute_result"
    }
   ],
   "source": [
    "a.shape"
   ]
  },
  {
   "cell_type": "code",
   "execution_count": 44,
   "id": "40bd0b7e",
   "metadata": {},
   "outputs": [
    {
     "data": {
      "text/plain": [
       "(100, 100)"
      ]
     },
     "execution_count": 44,
     "metadata": {},
     "output_type": "execute_result"
    }
   ],
   "source": [
    "b.shape"
   ]
  },
  {
   "cell_type": "code",
   "execution_count": 45,
   "id": "55b9d60f",
   "metadata": {},
   "outputs": [],
   "source": [
    "a = np.random.sample((2, 2))\n",
    "b = np.random.sample((2, 2))"
   ]
  },
  {
   "cell_type": "code",
   "execution_count": 46,
   "id": "39016a32-0e2e-4a39-a44a-7dde4cce1dd5",
   "metadata": {},
   "outputs": [
    {
     "data": {
      "text/plain": [
       "[[0.6763812688428017, 0.08465434974725064],\n",
       " [0.7960908997624238, 0.089220373534407]]"
      ]
     },
     "execution_count": 46,
     "metadata": {},
     "output_type": "execute_result"
    }
   ],
   "source": [
    "def mult(a: List[List[float]], b: List[List[float]]) -> List[List[float]]:\n",
    "    \"\"\"  \n",
    "    a: list of lists, n x m size, each contains floats --- первая матрица-аргумент\n",
    "    b: list of lists, m x k size, each contains floats --- вторая матрица-аргумент\n",
    "    return c: list of lists, n x k size, each contains floats --- матрица, являющаяся результатом умножения матриц a и b\n",
    "    \n",
    "    Функция принимает на вход две матрицы: a и b размерностью n x m и m x k\n",
    "    Возвращает матрицу их произведения a * b = c \n",
    "\n",
    "    Реализуйте умножение матриц без использования функций из пакета numpy.\n",
    "    \"\"\"\n",
    "    time = [ [0]*len(b[0]) for i in range(len(a))]\n",
    "    for t in range(len(a)):\n",
    "        for e in range(len(b[0])):\n",
    "            for m in range(len(b)):\n",
    "                time[t][e] += a[t][m] * b[m][e]\n",
    "    return time\n",
    "ab = mult(a,b)\n",
    "ab"
   ]
  },
  {
   "cell_type": "code",
   "execution_count": 47,
   "id": "edd728b3-a830-48bc-9189-402993f1caeb",
   "metadata": {},
   "outputs": [],
   "source": [
    "def np_mult(a: np.ndarray[float], b: np.ndarray[float]) -> np.ndarray[float]:\n",
    "    \"\"\"  \n",
    "    a: np.array[n, m] --- первая матрица-аргумент\n",
    "    b: np.array[m, k] --- вторая матрица-аргумент\n",
    "    return c: np.array[n, k] --- матрица, являющаяся результатом умножения матриц a и b\n",
    "    \n",
    "    Функция принимает на вход две матрицы: a и b размерностью n x m и m x k\n",
    "    Возвращает матрицу их произведения a * b = c \n",
    "\n",
    "    Реализуйте умножение матриц, используя функции из пакета numpy.\n",
    "    \"\"\"\n",
    "    c = np.dot(a,b)\n",
    "    return c"
   ]
  },
  {
   "cell_type": "code",
   "execution_count": 48,
   "id": "834b86d0",
   "metadata": {},
   "outputs": [
    {
     "data": {
      "text/plain": [
       "array([[2, 1],\n",
       "       [6, 3]])"
      ]
     },
     "execution_count": 48,
     "metadata": {},
     "output_type": "execute_result"
    }
   ],
   "source": [
    "c"
   ]
  },
  {
   "cell_type": "code",
   "execution_count": 49,
   "id": "49dcc241-15d4-4c7f-a866-211fb7e36c7f",
   "metadata": {},
   "outputs": [
    {
     "name": "stdout",
     "output_type": "stream",
     "text": [
      "CPU times: total: 0 ns\n",
      "Wall time: 0 ns\n"
     ]
    }
   ],
   "source": [
    "%%time\n",
    "# засечем время работы функции без NumPy\n",
    "M1 = mult(a.tolist(), b.tolist())"
   ]
  },
  {
   "cell_type": "code",
   "execution_count": 50,
   "id": "010d3218-43f6-4efe-a0d1-1c1883c73f13",
   "metadata": {},
   "outputs": [
    {
     "name": "stdout",
     "output_type": "stream",
     "text": [
      "CPU times: total: 0 ns\n",
      "Wall time: 0 ns\n"
     ]
    }
   ],
   "source": [
    "%%time\n",
    "# засечем время работы функции с NumPy\n",
    "M2 = np_mult(a, b)"
   ]
  },
  {
   "cell_type": "code",
   "execution_count": 51,
   "id": "f69d4e0c-3523-4b1c-933d-8ae923bc4ba3",
   "metadata": {},
   "outputs": [],
   "source": [
    "# проверим корректность\n",
    "assert np.allclose(np.array(M1), M2)"
   ]
  },
  {
   "cell_type": "markdown",
   "id": "957ae3a2-df4a-465a-b14e-4d400cf2211f",
   "metadata": {},
   "source": [
    "## Задание 2\n",
    "\n",
    "**Вам подаются на вход два вектора `a` и `b` в трехмерном пространстве. Заполните их случайными числами. Реализуйте их скалярное произведение с помощью `numpy` и без. Засеките время работы, как это показано в заданиях выше.**\n"
   ]
  },
  {
   "cell_type": "code",
   "execution_count": 52,
   "id": "981b4036-9769-4dd3-889d-893dfdbc9c5e",
   "metadata": {},
   "outputs": [
    {
     "name": "stdout",
     "output_type": "stream",
     "text": [
      "[0.99801387 0.65898857 0.37385279] [0.62591079 0.61540409 0.70698624]\n"
     ]
    }
   ],
   "source": [
    "a = np.random.sample((1, 3))[0]\n",
    "b = np.random.sample((1, 3))[0]\n",
    "\n",
    "print(a, b)"
   ]
  },
  {
   "cell_type": "code",
   "execution_count": 53,
   "id": "0cf9c529-f056-46c3-b448-3f48dc0cfffa",
   "metadata": {},
   "outputs": [],
   "source": [
    "def scalar_product(a: List[float], b: List[float]) -> float:\n",
    "    \"\"\"  \n",
    "    a: list of float numbers of length n --- список длиной n\n",
    "    b: list of float numbers of length n --- список длиной n\n",
    "    return c: float  --- результат скалярного произведения векторов a и b\n",
    "\n",
    "    Функция принимает на вход два вектора длиной n.\n",
    "    Возвращает число, равное их скалярному произведению a * b = c \n",
    "\n",
    "    Реализуйте скалярное умножение векторов, не используя функции из пакета numpy.\n",
    "    \"\"\" \n",
    "    dot = lambda a, b: sum(map(lambda x, y: x * y, a, b))\n",
    "    return dot(a, b)"
   ]
  },
  {
   "cell_type": "code",
   "execution_count": 54,
   "id": "ff9e1805",
   "metadata": {},
   "outputs": [],
   "source": [
    "scalar_p = scalar_product(a,b)"
   ]
  },
  {
   "cell_type": "code",
   "execution_count": 55,
   "id": "a664ac24-5feb-4ee9-9caf-083a62028526",
   "metadata": {},
   "outputs": [],
   "source": [
    "def np_scalar_product(a: np.ndarray[float], b: np.ndarray[float]) -> float:\n",
    "    \"\"\"  \n",
    "    a: np.array[, n] --- матрица-строка\n",
    "    b: np.array[, n] --- матрица-строка\n",
    "    return c: float  --- результат скалярного произведения векторов a и b\n",
    "\n",
    "    Функция принимает на вход два вектора длиной n\n",
    "    Возвращает число, равное их скалярному произведению a * b = c \n",
    "\n",
    "    Реализуйте скалярное умножение векторов, используя функции из пакета numpy.\n",
    "    \"\"\" \n",
    "    return np.dot(a,b)"
   ]
  },
  {
   "cell_type": "code",
   "execution_count": 56,
   "id": "8166258b",
   "metadata": {},
   "outputs": [],
   "source": [
    "scalar_p_numpy = np_scalar_product(a,b)"
   ]
  },
  {
   "cell_type": "code",
   "execution_count": 57,
   "id": "3ee37393",
   "metadata": {},
   "outputs": [
    {
     "data": {
      "text/plain": [
       "1.2945206904110471"
      ]
     },
     "execution_count": 57,
     "metadata": {},
     "output_type": "execute_result"
    }
   ],
   "source": [
    "scalar_p"
   ]
  },
  {
   "cell_type": "code",
   "execution_count": 58,
   "id": "e4108693",
   "metadata": {},
   "outputs": [
    {
     "data": {
      "text/plain": [
       "1.2945206904110471"
      ]
     },
     "execution_count": 58,
     "metadata": {},
     "output_type": "execute_result"
    }
   ],
   "source": [
    "scalar_p_numpy"
   ]
  },
  {
   "cell_type": "code",
   "execution_count": 59,
   "id": "73a89044-8273-438d-a212-cf17b0ce7774",
   "metadata": {},
   "outputs": [
    {
     "name": "stdout",
     "output_type": "stream",
     "text": [
      "CPU times: total: 0 ns\n",
      "Wall time: 0 ns\n",
      "CPU times: total: 0 ns\n",
      "Wall time: 0 ns\n"
     ]
    }
   ],
   "source": [
    "%time scalar_p = scalar_product(a.tolist(), b.tolist())\n",
    "%time scalar_p_numpy = np_scalar_product(a, b)\n",
    "\n",
    "# проверим корректность:\n",
    "assert np.allclose(scalar_p, scalar_p_numpy)"
   ]
  },
  {
   "cell_type": "markdown",
   "id": "3b0172f8-47d1-46f2-a0eb-f392259f8b00",
   "metadata": {},
   "source": [
    "**Почему методы `numpy` оказываются эффективнее? Что вы можете сказать о скорости вычислений в `numpy`?**"
   ]
  },
  {
   "cell_type": "markdown",
   "id": "04a382ad-5f85-400d-82f3-1702cdc4f6e6",
   "metadata": {},
   "source": [
    "Ваш ответ: $\\cdots$ NumPy частично на Питоне и частично сделана на С и С++ где нужна скорость, оптимизация на современных процессорах. Все типы элементов состоят из одного типа, что увеличивает скорость высчитывания. Также экономит место и работает с многомерными массивами."
   ]
  },
  {
   "cell_type": "markdown",
   "id": "8c567afc-a8fc-471b-bfa2-a68cac1241f4",
   "metadata": {
    "tags": []
   },
   "source": [
    "## Задание 3\n",
    "\n",
    "На вход дан двумерный массив $X$. \n",
    "\n",
    "Напишите функцию, которая для каждой строчки $x=(x_1, x_2, \\cdots, x_n)$ массива $X$ \n",
    "строит строчку $s=(s_1, s_2, \\cdots, s_n)$,\n",
    "\n",
    "где $s_k = x_1 + x_2 + \\cdots + x_n$,\n",
    "а затем выдаёт массив из построенных строчек. \n",
    "\n",
    "Напишите код без использованием библиотеки `numpy`, а после сравните с результатом функции `np.cumsum`. Выходом функции должен быть двумерный массив той же формы, что и $X$."
   ]
  },
  {
   "cell_type": "code",
   "execution_count": 64,
   "id": "5857e0bd-5cc8-4266-b0ca-76b1dc5ba1e6",
   "metadata": {},
   "outputs": [],
   "source": [
    "A = np.array([\n",
    "    [1, 2, 3, 4, 5],\n",
    "    [3, 2, 0,-1, 1],\n",
    "    [0, 0,-1,-2,-3],\n",
    "    [0, 1,-1, 1,-1]\n",
    "])"
   ]
  },
  {
   "cell_type": "code",
   "execution_count": 65,
   "id": "2240aa49",
   "metadata": {},
   "outputs": [],
   "source": [
    "def cumsum(A: List[List[float]]) -> List[List[float]]:\n",
    "    \"\"\"  \n",
    "    A: list of lists, n x m size --- матрица-аргумент\n",
    "    return S: list of lists, n x m size --- выходная матрица кумулятивных сумм\n",
    "\n",
    "    Функция принимает на вход матрицу A размерностью n x m и возвращает \n",
    "    матрицу с той же размерностью n x m, i-ая строчка которой есть последовательность \n",
    "    кумулятивных сумм элементов i-ой строки матрицы A.\n",
    "\n",
    "    Реализуйте функцию, не используя пакет numpy.\n",
    "    \"\"\"\n",
    "    matrics = copy.deepcopy(A)\n",
    "    for row in range(len(matrics)):\n",
    "        total=0\n",
    "        for sell in range(1,len(matrics[row])):\n",
    "            # sums.append(total)\n",
    "            matrics[row][sell] +=matrics[row][sell-1]\n",
    "    return matrics\n"
   ]
  },
  {
   "cell_type": "code",
   "execution_count": 66,
   "id": "bbf5bc08",
   "metadata": {},
   "outputs": [],
   "source": [
    "S1 = cumsum(A)"
   ]
  },
  {
   "cell_type": "code",
   "execution_count": 67,
   "id": "edf9f1f4-26af-4dbd-866f-0428d8d59619",
   "metadata": {},
   "outputs": [
    {
     "data": {
      "text/plain": [
       "array([[ 1,  3,  6, 10, 15],\n",
       "       [ 3,  5,  5,  4,  5],\n",
       "       [ 0,  0, -1, -3, -6],\n",
       "       [ 0,  1,  0,  1,  0]])"
      ]
     },
     "execution_count": 67,
     "metadata": {},
     "output_type": "execute_result"
    }
   ],
   "source": [
    "S1"
   ]
  },
  {
   "cell_type": "code",
   "execution_count": 63,
   "id": "4cd067f6-08c6-4115-bba7-065f06657bdd",
   "metadata": {},
   "outputs": [
    {
     "name": "stdout",
     "output_type": "stream",
     "text": [
      "CPU times: total: 0 ns\n",
      "Wall time: 0 ns\n",
      "CPU times: total: 0 ns\n",
      "Wall time: 0 ns\n"
     ]
    }
   ],
   "source": [
    "%time S1 = cumsum(A.tolist())\n",
    "%time S2 = np.cumsum(A, axis=1)\n",
    "\n",
    "# проверим корректность:\n",
    "assert np.allclose(np.array(S1), S2)"
   ]
  }
 ],
 "metadata": {
  "kernelspec": {
   "display_name": "Python 3 (ipykernel)",
   "language": "python",
   "name": "python3"
  },
  "language_info": {
   "codemirror_mode": {
    "name": "ipython",
    "version": 3
   },
   "file_extension": ".py",
   "mimetype": "text/x-python",
   "name": "python",
   "nbconvert_exporter": "python",
   "pygments_lexer": "ipython3",
   "version": "3.10.9"
  },
  "vscode": {
   "interpreter": {
    "hash": "14c4046f019d265069028e7f28ee34131094ad897b9b4403025fafed39ce2187"
   }
  }
 },
 "nbformat": 4,
 "nbformat_minor": 5
}
